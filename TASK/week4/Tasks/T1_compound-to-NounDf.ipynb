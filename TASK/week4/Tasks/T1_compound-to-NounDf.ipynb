{
 "cells": [
  {
   "cell_type": "markdown",
   "metadata": {},
   "source": [
    "#### 복합명사화 처리가 끝난 하단의 df파일에서 Noun만 추출 및 기타 전처리(소문자 통일, 한글자 제거)\n",
    "\n",
    "#### OUTPUT: w4/T1_out1_df_noun_title.csv"
   ]
  },
  {
   "cell_type": "code",
   "execution_count": 3,
   "metadata": {},
   "outputs": [],
   "source": [
    "import os\n",
    "import pandas as pd"
   ]
  },
  {
   "cell_type": "code",
   "execution_count": 64,
   "metadata": {},
   "outputs": [],
   "source": [
    "df = pd.read_csv('../../../outputs/week3/df1_1_res_NNG_NNP_title_all.csv',encoding='utf-8')\n",
    "os.chdir(path='../outputs/') # 저장경로 설정"
   ]
  },
  {
   "cell_type": "code",
   "execution_count": null,
   "metadata": {},
   "outputs": [],
   "source": [
    "#Type이 명사인 token만 추출 및 df구성\n",
    "df_noun_title = pd.DataFrame(columns=['art_id','token'])\n",
    "\n",
    "for i in range(len(df)):\n",
    "    print(f'level: {i}')\n",
    "    \n",
    "    if df.loc[i][2] == 'NNG' or df.loc[i][2] == 'NNP' or df.loc[i][2] == 'comp_NNG_NNP' or df.loc[i][2] == 'SL':\n",
    "        df_noun_title = df_noun_title.append({'art_id':df.loc[i][0],'token':df.loc[i][1],'type':df.loc[i][2]}, ignore_index=True)          \n",
    "\n",
    "len(df_noun_title)"
   ]
  },
  {
   "cell_type": "code",
   "execution_count": null,
   "metadata": {},
   "outputs": [],
   "source": [
    "# SL타입 토큰 중 대문자 포함 token 인식 및 인덱스 저장\n",
    "temp = 0\n",
    "SLupStr_index_list = []\n",
    "\n",
    "def isSL(token) :\n",
    "    global temp\n",
    "    global SLupStr_index_list\n",
    "    if df_noun_title.loc[temp,'type'] =='SL':   \n",
    "        if (not token.islower()):\n",
    "            SLupStr_index_list.append(temp) # 인덱스 사용 메서드 name\n",
    "    temp += 1\n",
    "\n",
    "df_noun_title.loc[:,'token'].apply(isSL)\n",
    "\n",
    "SLupStr_index_list[:5]\n",
    "\n"
   ]
  },
  {
   "cell_type": "code",
   "execution_count": 172,
   "metadata": {},
   "outputs": [],
   "source": [
    "#소문자로 통일 및 저장 : df_noun_title_slLower\n",
    "df_noun_title_slLower = df_noun_title\n",
    "df_noun_title_slLower.loc[SLupStr_index_list,'token'] = df_noun_title_slLower.loc[SLupStr_index_list,'token'].apply(lambda x: x.lower())"
   ]
  },
  {
   "cell_type": "code",
   "execution_count": null,
   "metadata": {},
   "outputs": [],
   "source": [
    "# SL타입의 대문자  \n",
    "    # 저장\n",
    "df_noun_title_rmLen1.to_csv('T1_out1_df_noun_title.csv',encoding='utf-8-sig', index=False)\n",
    "\n",
    "df_noun_title_rmLen1.head(20)"
   ]
  },
  {
   "cell_type": "code",
   "execution_count": 173,
   "metadata": {},
   "outputs": [
    {
     "data": {
      "text/plain": [
       "[6, 51, 54, 77, 79]"
      ]
     },
     "execution_count": 173,
     "metadata": {},
     "output_type": "execute_result"
    }
   ],
   "source": [
    "# 길이가 1인(즉, 한글자 단어) 단어 인덱스 찾기\n",
    "\n",
    "temp = 0\n",
    "len1_index_list = []\n",
    "\n",
    "def isLen1(token) :\n",
    "    global temp\n",
    "    global len1_index_list\n",
    "    if (len(token) <= 1):\n",
    "        len1_index_list.append(temp) # 인덱스 사용 메서드 name\n",
    "    temp += 1\n",
    "\n",
    "df_noun_title_slLower.loc[:,'token'].apply(isLen1)\n",
    "\n",
    "len1_index_list[:5]\n"
   ]
  },
  {
   "cell_type": "code",
   "execution_count": null,
   "metadata": {},
   "outputs": [],
   "source": [
    "# 길이가 1인 단어 제거 df 만들기 : df_noun_title_rmLen1\n",
    "\n",
    "df_noun_title_rmLen1= df_noun_title_slLower.drop(index=len1_index_list)\n",
    "\n",
    "df_noun_title_rmLen1.head(20)"
   ]
  },
  {
   "cell_type": "code",
   "execution_count": 176,
   "metadata": {},
   "outputs": [
    {
     "data": {
      "text/html": [
       "<div>\n",
       "<style scoped>\n",
       "    .dataframe tbody tr th:only-of-type {\n",
       "        vertical-align: middle;\n",
       "    }\n",
       "\n",
       "    .dataframe tbody tr th {\n",
       "        vertical-align: top;\n",
       "    }\n",
       "\n",
       "    .dataframe thead th {\n",
       "        text-align: right;\n",
       "    }\n",
       "</style>\n",
       "<table border=\"1\" class=\"dataframe\">\n",
       "  <thead>\n",
       "    <tr style=\"text-align: right;\">\n",
       "      <th></th>\n",
       "      <th>art_id</th>\n",
       "      <th>token</th>\n",
       "      <th>type</th>\n",
       "    </tr>\n",
       "  </thead>\n",
       "  <tbody>\n",
       "    <tr>\n",
       "      <th>0</th>\n",
       "      <td>0</td>\n",
       "      <td>erp</td>\n",
       "      <td>SL</td>\n",
       "    </tr>\n",
       "    <tr>\n",
       "      <th>1</th>\n",
       "      <td>0</td>\n",
       "      <td>프로그램</td>\n",
       "      <td>NNG</td>\n",
       "    </tr>\n",
       "    <tr>\n",
       "      <th>2</th>\n",
       "      <td>0</td>\n",
       "      <td>오류</td>\n",
       "      <td>NNG</td>\n",
       "    </tr>\n",
       "    <tr>\n",
       "      <th>3</th>\n",
       "      <td>0</td>\n",
       "      <td>장애조치</td>\n",
       "      <td>comp_NNG_NNP</td>\n",
       "    </tr>\n",
       "    <tr>\n",
       "      <th>4</th>\n",
       "      <td>0</td>\n",
       "      <td>방법</td>\n",
       "      <td>NNG</td>\n",
       "    </tr>\n",
       "  </tbody>\n",
       "</table>\n",
       "</div>"
      ],
      "text/plain": [
       "  art_id token          type\n",
       "0      0   erp            SL\n",
       "1      0  프로그램           NNG\n",
       "2      0    오류           NNG\n",
       "3      0  장애조치  comp_NNG_NNP\n",
       "4      0    방법           NNG"
      ]
     },
     "execution_count": 176,
     "metadata": {},
     "output_type": "execute_result"
    }
   ],
   "source": [
    "# output1 : 명사 추출 & SL 소문자 통일 & 길이 1짜리 단어 제거 \n",
    "    # 저장\n",
    "df_noun_title_rmLen1.to_csv('T1_out1_df_noun_title.csv',encoding='utf-8-sig', index=False)\n",
    "\n",
    "df_noun_title_rmLen1.head()"
   ]
  }
 ],
 "metadata": {
  "kernelspec": {
   "display_name": "Python 3.7.9 ('base')",
   "language": "python",
   "name": "python3"
  },
  "language_info": {
   "codemirror_mode": {
    "name": "ipython",
    "version": 3
   },
   "file_extension": ".py",
   "mimetype": "text/x-python",
   "name": "python",
   "nbconvert_exporter": "python",
   "pygments_lexer": "ipython3",
   "version": "3.7.9"
  },
  "orig_nbformat": 4,
  "vscode": {
   "interpreter": {
    "hash": "893e2f8560dd80db9d2d7371d17a496e07b1d50128dbfa242376fd90a1fa52a7"
   }
  }
 },
 "nbformat": 4,
 "nbformat_minor": 2
}
