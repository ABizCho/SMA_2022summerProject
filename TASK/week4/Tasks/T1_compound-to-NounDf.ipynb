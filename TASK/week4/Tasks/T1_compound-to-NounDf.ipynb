{
 "cells": [
  {
   "cell_type": "markdown",
   "metadata": {},
   "source": [
    "#### 복합명사화 처리가 끝난 하단의 df파일에서 Noun만 추출 및 기타 전처리(소문자 통일, 한글자 제거)\n",
    "\n",
    "#### OUTPUT: w4/T1_out1_df_noun_title.csv"
   ]
  },
  {
   "cell_type": "code",
   "execution_count": 8,
   "metadata": {},
   "outputs": [],
   "source": [
    "import os\n",
    "import pandas as pd\n",
    "from tqdm import tqdm"
   ]
  },
  {
   "cell_type": "code",
   "execution_count": 3,
   "metadata": {},
   "outputs": [],
   "source": [
    "df = pd.read_csv('../../week3/outputs/df0_1_res_totalComps_title.csv', encoding='utf-8-sig')"
   ]
  },
  {
   "cell_type": "code",
   "execution_count": 17,
   "metadata": {},
   "outputs": [
    {
     "name": "stderr",
     "output_type": "stream",
     "text": [
      "명사(준) 추출 로직 진행중: 100%|██████████| 111562/111562 [02:13<00:00, 836.73it/s]\n"
     ]
    }
   ],
   "source": [
    "# 명사 혹은 그에 준하는 token record만 추출\n",
    "\n",
    "df_title_noun = pd.DataFrame(columns=['art_id','token','type'])\n",
    "\n",
    "for i in tqdm(range(len(df)), desc='명사(준) 추출 로직 진행중'):\n",
    "    if df.loc[i,'type']=='NNG' or df.loc[i,'type']=='NNP' or df.loc[i,'type']=='SL'or df.loc[i,'type']=='SH' or df.loc[i,'type']=='comp_Nouns2' or df.loc[i,'type']=='comp_Nouns3' or df.loc[i,'type']=='comp_SN_NNBC_NNG' or df.loc[i,'type']=='comp_SN_NR_NNBC' or df.loc[i,'type']=='comp_SN_NNBC' or df.loc[i,'type']=='comp_SN_MM_NNG':\n",
    "        df_title_noun = df_title_noun.append(df.loc[i,['art_id','token','type']])\n",
    "\n",
    "df_noun_title = df_title_noun.reset_index(drop=True)"
   ]
  },
  {
   "cell_type": "code",
   "execution_count": 20,
   "metadata": {},
   "outputs": [],
   "source": [
    "df_noun_title.head()\n",
    "\n",
    "df_noun_title = df_noun_title.astype({'token':'str'})"
   ]
  },
  {
   "cell_type": "code",
   "execution_count": 21,
   "metadata": {},
   "outputs": [
    {
     "data": {
      "text/plain": [
       "[5, 60, 64, 69, 92]"
      ]
     },
     "execution_count": 21,
     "metadata": {},
     "output_type": "execute_result"
    }
   ],
   "source": [
    "# SL타입 토큰 중 대문자 포함 token 인식 및 인덱스 저장\n",
    "temp = 0\n",
    "SLupStr_index_list = []\n",
    "\n",
    "def isSL(token) :\n",
    "    global temp\n",
    "    global SLupStr_index_list\n",
    "    if df_noun_title.loc[temp,'type'] =='SL':   \n",
    "        if (not token.islower()):\n",
    "            SLupStr_index_list.append(temp) # 인덱스 사용 메서드 name\n",
    "    temp += 1\n",
    "\n",
    "df_noun_title.loc[:,'token'].apply(isSL)\n",
    "\n",
    "SLupStr_index_list[:5]\n",
    "\n"
   ]
  },
  {
   "cell_type": "code",
   "execution_count": 22,
   "metadata": {},
   "outputs": [],
   "source": [
    "#상위 저장한 인덱스 기반, 소문자로 통일 및 저장 : df_noun_title_slLower\n",
    "df_noun_title_slLower = df_noun_title\n",
    "df_noun_title_slLower.loc[SLupStr_index_list,'token'] = df_noun_title_slLower.loc[SLupStr_index_list,'token'].apply(lambda x: x.lower())"
   ]
  },
  {
   "cell_type": "code",
   "execution_count": 23,
   "metadata": {},
   "outputs": [
    {
     "data": {
      "text/plain": [
       "[7, 29, 35, 77, 83]"
      ]
     },
     "execution_count": 23,
     "metadata": {},
     "output_type": "execute_result"
    }
   ],
   "source": [
    "# 길이가 1인(즉, 한글자 단어) 단어 인덱스 찾기\n",
    "\n",
    "temp = 0\n",
    "len1_index_list = []\n",
    "\n",
    "def isLen1(token) :\n",
    "    global temp\n",
    "    global len1_index_list\n",
    "    if (len(token) <= 1):\n",
    "        len1_index_list.append(temp) # 인덱스 사용 메서드 name\n",
    "    temp += 1\n",
    "\n",
    "df_noun_title_slLower.loc[:,'token'].apply(isLen1)\n",
    "\n",
    "len1_index_list[:5]\n"
   ]
  },
  {
   "cell_type": "code",
   "execution_count": 24,
   "metadata": {},
   "outputs": [
    {
     "data": {
      "text/html": [
       "<div>\n",
       "<style scoped>\n",
       "    .dataframe tbody tr th:only-of-type {\n",
       "        vertical-align: middle;\n",
       "    }\n",
       "\n",
       "    .dataframe tbody tr th {\n",
       "        vertical-align: top;\n",
       "    }\n",
       "\n",
       "    .dataframe thead th {\n",
       "        text-align: right;\n",
       "    }\n",
       "</style>\n",
       "<table border=\"1\" class=\"dataframe\">\n",
       "  <thead>\n",
       "    <tr style=\"text-align: right;\">\n",
       "      <th></th>\n",
       "      <th>art_id</th>\n",
       "      <th>token</th>\n",
       "      <th>type</th>\n",
       "    </tr>\n",
       "  </thead>\n",
       "  <tbody>\n",
       "    <tr>\n",
       "      <th>0</th>\n",
       "      <td>0</td>\n",
       "      <td>erp</td>\n",
       "      <td>SL</td>\n",
       "    </tr>\n",
       "    <tr>\n",
       "      <th>1</th>\n",
       "      <td>0</td>\n",
       "      <td>프로그램</td>\n",
       "      <td>NNG</td>\n",
       "    </tr>\n",
       "    <tr>\n",
       "      <th>2</th>\n",
       "      <td>0</td>\n",
       "      <td>오류</td>\n",
       "      <td>NNG</td>\n",
       "    </tr>\n",
       "    <tr>\n",
       "      <th>3</th>\n",
       "      <td>0</td>\n",
       "      <td>장애조치</td>\n",
       "      <td>comp_Nouns2</td>\n",
       "    </tr>\n",
       "    <tr>\n",
       "      <th>4</th>\n",
       "      <td>0</td>\n",
       "      <td>방법</td>\n",
       "      <td>NNG</td>\n",
       "    </tr>\n",
       "    <tr>\n",
       "      <th>5</th>\n",
       "      <td>1</td>\n",
       "      <td>pl</td>\n",
       "      <td>SL</td>\n",
       "    </tr>\n",
       "    <tr>\n",
       "      <th>6</th>\n",
       "      <td>2</td>\n",
       "      <td>공부</td>\n",
       "      <td>NNG</td>\n",
       "    </tr>\n",
       "    <tr>\n",
       "      <th>8</th>\n",
       "      <td>3</td>\n",
       "      <td>개인</td>\n",
       "      <td>NNG</td>\n",
       "    </tr>\n",
       "    <tr>\n",
       "      <th>9</th>\n",
       "      <td>3</td>\n",
       "      <td>생각</td>\n",
       "      <td>NNG</td>\n",
       "    </tr>\n",
       "    <tr>\n",
       "      <th>10</th>\n",
       "      <td>3</td>\n",
       "      <td>서울</td>\n",
       "      <td>NNP</td>\n",
       "    </tr>\n",
       "    <tr>\n",
       "      <th>11</th>\n",
       "      <td>3</td>\n",
       "      <td>vs</td>\n",
       "      <td>SL</td>\n",
       "    </tr>\n",
       "    <tr>\n",
       "      <th>12</th>\n",
       "      <td>3</td>\n",
       "      <td>지방</td>\n",
       "      <td>NNG</td>\n",
       "    </tr>\n",
       "    <tr>\n",
       "      <th>13</th>\n",
       "      <td>3</td>\n",
       "      <td>취업</td>\n",
       "      <td>NNG</td>\n",
       "    </tr>\n",
       "    <tr>\n",
       "      <th>14</th>\n",
       "      <td>3</td>\n",
       "      <td>장단점</td>\n",
       "      <td>NNG</td>\n",
       "    </tr>\n",
       "    <tr>\n",
       "      <th>15</th>\n",
       "      <td>4</td>\n",
       "      <td>퀄리티</td>\n",
       "      <td>NNP</td>\n",
       "    </tr>\n",
       "    <tr>\n",
       "      <th>16</th>\n",
       "      <td>4</td>\n",
       "      <td>영상</td>\n",
       "      <td>NNG</td>\n",
       "    </tr>\n",
       "    <tr>\n",
       "      <th>17</th>\n",
       "      <td>5</td>\n",
       "      <td>기술면접</td>\n",
       "      <td>comp_Nouns2</td>\n",
       "    </tr>\n",
       "    <tr>\n",
       "      <th>18</th>\n",
       "      <td>5</td>\n",
       "      <td>관련</td>\n",
       "      <td>NNG</td>\n",
       "    </tr>\n",
       "    <tr>\n",
       "      <th>19</th>\n",
       "      <td>5</td>\n",
       "      <td>질문</td>\n",
       "      <td>NNG</td>\n",
       "    </tr>\n",
       "    <tr>\n",
       "      <th>20</th>\n",
       "      <td>6</td>\n",
       "      <td>반프리</td>\n",
       "      <td>comp_Nouns2</td>\n",
       "    </tr>\n",
       "  </tbody>\n",
       "</table>\n",
       "</div>"
      ],
      "text/plain": [
       "   art_id token         type\n",
       "0       0   erp           SL\n",
       "1       0  프로그램          NNG\n",
       "2       0    오류          NNG\n",
       "3       0  장애조치  comp_Nouns2\n",
       "4       0    방법          NNG\n",
       "5       1    pl           SL\n",
       "6       2    공부          NNG\n",
       "8       3    개인          NNG\n",
       "9       3    생각          NNG\n",
       "10      3    서울          NNP\n",
       "11      3    vs           SL\n",
       "12      3    지방          NNG\n",
       "13      3    취업          NNG\n",
       "14      3   장단점          NNG\n",
       "15      4   퀄리티          NNP\n",
       "16      4    영상          NNG\n",
       "17      5  기술면접  comp_Nouns2\n",
       "18      5    관련          NNG\n",
       "19      5    질문          NNG\n",
       "20      6   반프리  comp_Nouns2"
      ]
     },
     "execution_count": 24,
     "metadata": {},
     "output_type": "execute_result"
    }
   ],
   "source": [
    "# 길이가 1인 단어 제거 df 만들기 : df_noun_title_rmLen1\n",
    "\n",
    "df_noun_title_rmLen1= df_noun_title_slLower.drop(index=len1_index_list)\n",
    "\n",
    "df_noun_title_rmLen1.head(20)"
   ]
  },
  {
   "cell_type": "code",
   "execution_count": 31,
   "metadata": {},
   "outputs": [],
   "source": [
    "# 특정 불필요 값들 제거\n",
    "\n",
    "dropTokens=  ['부탁','개발자','관련','안녕','질문','조언','고민']\n",
    "\n",
    "df_noun_title_rmLen1 = df_noun_title_rmLen1[~df_noun_title_rmLen1['token'].isin(dropTokens)]"
   ]
  },
  {
   "cell_type": "code",
   "execution_count": 32,
   "metadata": {},
   "outputs": [
    {
     "data": {
      "text/html": [
       "<div>\n",
       "<style scoped>\n",
       "    .dataframe tbody tr th:only-of-type {\n",
       "        vertical-align: middle;\n",
       "    }\n",
       "\n",
       "    .dataframe tbody tr th {\n",
       "        vertical-align: top;\n",
       "    }\n",
       "\n",
       "    .dataframe thead th {\n",
       "        text-align: right;\n",
       "    }\n",
       "</style>\n",
       "<table border=\"1\" class=\"dataframe\">\n",
       "  <thead>\n",
       "    <tr style=\"text-align: right;\">\n",
       "      <th></th>\n",
       "      <th>art_id</th>\n",
       "      <th>token</th>\n",
       "      <th>type</th>\n",
       "    </tr>\n",
       "  </thead>\n",
       "  <tbody>\n",
       "    <tr>\n",
       "      <th>0</th>\n",
       "      <td>0</td>\n",
       "      <td>erp</td>\n",
       "      <td>SL</td>\n",
       "    </tr>\n",
       "    <tr>\n",
       "      <th>1</th>\n",
       "      <td>0</td>\n",
       "      <td>프로그램</td>\n",
       "      <td>NNG</td>\n",
       "    </tr>\n",
       "    <tr>\n",
       "      <th>2</th>\n",
       "      <td>0</td>\n",
       "      <td>오류</td>\n",
       "      <td>NNG</td>\n",
       "    </tr>\n",
       "    <tr>\n",
       "      <th>3</th>\n",
       "      <td>0</td>\n",
       "      <td>장애조치</td>\n",
       "      <td>comp_Nouns2</td>\n",
       "    </tr>\n",
       "    <tr>\n",
       "      <th>4</th>\n",
       "      <td>0</td>\n",
       "      <td>방법</td>\n",
       "      <td>NNG</td>\n",
       "    </tr>\n",
       "  </tbody>\n",
       "</table>\n",
       "</div>"
      ],
      "text/plain": [
       "  art_id token         type\n",
       "0      0   erp           SL\n",
       "1      0  프로그램          NNG\n",
       "2      0    오류          NNG\n",
       "3      0  장애조치  comp_Nouns2\n",
       "4      0    방법          NNG"
      ]
     },
     "execution_count": 32,
     "metadata": {},
     "output_type": "execute_result"
    }
   ],
   "source": [
    "# output1 : 명사 추출 & SL 소문자 통일 & 길이 1짜리 단어 제거 \n",
    "    # 저장\n",
    "df_noun_title_rmLen1.to_csv('../outputs/T1_df_cleaned_noun_title.csv',encoding='utf-8-sig', index=False)\n",
    "\n",
    "df_noun_title_rmLen1.head()"
   ]
  }
 ],
 "metadata": {
  "kernelspec": {
   "display_name": "Python 3.7.9 ('base')",
   "language": "python",
   "name": "python3"
  },
  "language_info": {
   "codemirror_mode": {
    "name": "ipython",
    "version": 3
   },
   "file_extension": ".py",
   "mimetype": "text/x-python",
   "name": "python",
   "nbconvert_exporter": "python",
   "pygments_lexer": "ipython3",
   "version": "3.7.9"
  },
  "orig_nbformat": 4,
  "vscode": {
   "interpreter": {
    "hash": "893e2f8560dd80db9d2d7371d17a496e07b1d50128dbfa242376fd90a1fa52a7"
   }
  }
 },
 "nbformat": 4,
 "nbformat_minor": 2
}
