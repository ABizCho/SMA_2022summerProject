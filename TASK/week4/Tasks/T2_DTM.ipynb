{
 "cells": [
  {
   "cell_type": "code",
   "execution_count": 1,
   "metadata": {},
   "outputs": [],
   "source": [
    "import pandas as pd\n",
    "from tqdm import tqdm\n",
    "\n",
    "df_title = pd.read_csv('../outputs/T1_df_cleaned_noun_title.csv',encoding='utf-8')"
   ]
  },
  {
   "cell_type": "code",
   "execution_count": 2,
   "metadata": {},
   "outputs": [
    {
     "data": {
      "text/html": [
       "<div>\n",
       "<style scoped>\n",
       "    .dataframe tbody tr th:only-of-type {\n",
       "        vertical-align: middle;\n",
       "    }\n",
       "\n",
       "    .dataframe tbody tr th {\n",
       "        vertical-align: top;\n",
       "    }\n",
       "\n",
       "    .dataframe thead th {\n",
       "        text-align: right;\n",
       "    }\n",
       "</style>\n",
       "<table border=\"1\" class=\"dataframe\">\n",
       "  <thead>\n",
       "    <tr style=\"text-align: right;\">\n",
       "      <th></th>\n",
       "      <th>art_id</th>\n",
       "      <th>token</th>\n",
       "      <th>type</th>\n",
       "    </tr>\n",
       "  </thead>\n",
       "  <tbody>\n",
       "    <tr>\n",
       "      <th>0</th>\n",
       "      <td>0</td>\n",
       "      <td>erp</td>\n",
       "      <td>SL</td>\n",
       "    </tr>\n",
       "    <tr>\n",
       "      <th>1</th>\n",
       "      <td>0</td>\n",
       "      <td>프로그램</td>\n",
       "      <td>NNG</td>\n",
       "    </tr>\n",
       "    <tr>\n",
       "      <th>2</th>\n",
       "      <td>0</td>\n",
       "      <td>오류</td>\n",
       "      <td>NNG</td>\n",
       "    </tr>\n",
       "    <tr>\n",
       "      <th>3</th>\n",
       "      <td>0</td>\n",
       "      <td>장애조치</td>\n",
       "      <td>comp_Nouns2</td>\n",
       "    </tr>\n",
       "    <tr>\n",
       "      <th>4</th>\n",
       "      <td>0</td>\n",
       "      <td>방법</td>\n",
       "      <td>NNG</td>\n",
       "    </tr>\n",
       "  </tbody>\n",
       "</table>\n",
       "</div>"
      ],
      "text/plain": [
       "   art_id token         type\n",
       "0       0   erp           SL\n",
       "1       0  프로그램          NNG\n",
       "2       0    오류          NNG\n",
       "3       0  장애조치  comp_Nouns2\n",
       "4       0    방법          NNG"
      ]
     },
     "execution_count": 2,
     "metadata": {},
     "output_type": "execute_result"
    }
   ],
   "source": [
    "# df_title = df_title[:100]\n",
    "\n",
    "df_title.head()"
   ]
  },
  {
   "cell_type": "code",
   "execution_count": 4,
   "metadata": {},
   "outputs": [
    {
     "name": "stderr",
     "output_type": "stream",
     "text": [
      "명사(준) 추출 로직 진행중: 100%|██████████| 111562/111562 [02:20<00:00, 796.27it/s]\n"
     ]
    }
   ],
   "source": [
    "# # 명사 혹은 그에 준하는 token record만 추출\n",
    "\n",
    "# df_title_noun = pd.DataFrame(columns=['art_id','token'])\n",
    "\n",
    "# for i in tqdm(range(len(df_title)), desc='명사(준) 추출 로직 진행중'):\n",
    "#     if df_title.loc[i,'type']=='NNG' or df_title.loc[i,'type']=='NNP' or df_title.loc[i,'type']=='SL'or df_title.loc[i,'type']=='SH' or df_title.loc[i,'type']=='comp_Nouns2' or df_title.loc[i,'type']=='comp_Nouns3' or df_title.loc[i,'type']=='comp_SN_NNBC_NNG' or df_title.loc[i,'type']=='comp_SN_NR_NNBC' or df_title.loc[i,'type']=='comp_SN_NNBC' or df_title.loc[i,'type']=='comp_SN_MM_NNG':\n",
    "#         df_title_noun = df_title_noun.append(df_title.loc[i,['art_id','token']])\n",
    "\n",
    "# df_title_noun = df_title_noun.reset_index(drop=True)"
   ]
  },
  {
   "cell_type": "code",
   "execution_count": 5,
   "metadata": {},
   "outputs": [],
   "source": [
    "df_title = df_title.astype({'token':'str'})\n"
   ]
  },
  {
   "cell_type": "code",
   "execution_count": 17,
   "metadata": {},
   "outputs": [
    {
     "name": "stderr",
     "output_type": "stream",
     "text": [
      "길이 1 레코드 제거 진행중: 100%|██████████| 51416/51416 [00:10<00:00, 4701.08it/s]\n"
     ]
    }
   ],
   "source": [
    "# # token 길이가 1인 record 삭제\n",
    "# for i in tqdm(range(len(df_title_noun_dropFloat)), desc='길이 1 레코드 제거 진행중' ):\n",
    "#     if len(df_title_noun_dropFloat.loc[i,'token']) < 2 :\n",
    "#         df_title_noun1 = df_title_noun_dropFloat.drop(i)\n",
    "        \n",
    "# df_title_noun1 = df_title_noun1.reset_index(drop=True)"
   ]
  },
  {
   "cell_type": "code",
   "execution_count": 6,
   "metadata": {},
   "outputs": [
    {
     "name": "stderr",
     "output_type": "stream",
     "text": [
      "DTM 생성 위한 arr화 진행중: 100%|██████████| 46753/46753 [00:00<00:00, 76145.12it/s]\n"
     ]
    }
   ],
   "source": [
    "arr_noun_byId = []\n",
    "loop_list= []\n",
    "loop_id = 0\n",
    "for i in tqdm(range(len(df_title)), desc='DTM 생성 위한 arr화 진행중'):\n",
    "    \n",
    "    cur_id = df_title.loc[i,'art_id']\n",
    "    if loop_id != cur_id :\n",
    "        loop_id = cur_id\n",
    "        arr_noun_byId.append(loop_list)\n",
    "        loop_list=[]\n",
    "    loop_list.append(df_title.loc[i,'token'])"
   ]
  },
  {
   "cell_type": "code",
   "execution_count": 7,
   "metadata": {},
   "outputs": [],
   "source": [
    "def joinstr(str_list) :\n",
    "    str = \" \".join(str_list)\n",
    "    return str\n",
    "    \n",
    "noun_byId_toString = list(map(joinstr,arr_noun_byId))"
   ]
  },
  {
   "cell_type": "code",
   "execution_count": 8,
   "metadata": {},
   "outputs": [
    {
     "name": "stderr",
     "output_type": "stream",
     "text": [
      "c:\\Users\\he125\\miniconda3\\lib\\site-packages\\ipykernel_launcher.py:23: PerformanceWarning: DataFrame is highly fragmented.  This is usually the result of calling `frame.insert` many times, which has poor performance.  Consider joining all columns at once using pd.concat(axis=1) instead.  To get a de-fragmented frame, use `newframe = frame.copy()`\n"
     ]
    }
   ],
   "source": [
    "# DTM 구성\n",
    "    #https://pbj0812.tistory.com/372\n",
    "\n",
    "def doc(str_list):\n",
    "    doc_list = []\n",
    "    df = pd.DataFrame()\n",
    "    for i in str_list:\n",
    "        # 단어 분해\n",
    "        tmp_list = i.split(' ')\n",
    "        # 리스트 결합\n",
    "        doc_list += tmp_list\n",
    "    doc_list = list(set(doc_list))\n",
    "    \n",
    "\n",
    "    for i in doc_list:\n",
    "        tmp = []\n",
    "        for j in str_list:\n",
    "            # 단어 분해\n",
    "            tmp_list = j.split(' ')\n",
    "            # 단어 세기\n",
    "            tmp.append(tmp_list.count(i))\n",
    "        # 데이터 프레임 추가\n",
    "        df[i] = tmp\n",
    "    return df\n",
    "\n",
    "DTM_title = doc(noun_byId_toString)"
   ]
  },
  {
   "cell_type": "code",
   "execution_count": 22,
   "metadata": {},
   "outputs": [],
   "source": [
    "\n",
    "#저장\n",
    "DTM_title.to_csv('../outputs/T2_DTM_title.csv',encoding='utf-8-sig',index=False)"
   ]
  }
 ],
 "metadata": {
  "kernelspec": {
   "display_name": "Python 3.7.9 ('base')",
   "language": "python",
   "name": "python3"
  },
  "language_info": {
   "codemirror_mode": {
    "name": "ipython",
    "version": 3
   },
   "file_extension": ".py",
   "mimetype": "text/x-python",
   "name": "python",
   "nbconvert_exporter": "python",
   "pygments_lexer": "ipython3",
   "version": "3.7.9"
  },
  "orig_nbformat": 4,
  "vscode": {
   "interpreter": {
    "hash": "893e2f8560dd80db9d2d7371d17a496e07b1d50128dbfa242376fd90a1fa52a7"
   }
  }
 },
 "nbformat": 4,
 "nbformat_minor": 2
}
