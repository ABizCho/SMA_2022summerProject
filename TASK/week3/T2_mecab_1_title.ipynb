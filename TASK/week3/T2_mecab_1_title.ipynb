{
 "cells": [
  {
   "cell_type": "code",
   "execution_count": 1,
   "metadata": {},
   "outputs": [],
   "source": [
    "from konlpy.tag import Mecab \n",
    "\n",
    "mec = Mecab(dicpath=r\"C:\\mecab\\mecab-ko-dic\")"
   ]
  },
  {
   "cell_type": "code",
   "execution_count": 2,
   "metadata": {},
   "outputs": [],
   "source": [
    "import pandas as pd\n",
    "import os\n",
    "\n",
    "df = pd.read_csv(\"../week3/inputs/df3_2_artsCleanEtc.csv\")\n"
   ]
  },
  {
   "cell_type": "code",
   "execution_count": 8,
   "metadata": {},
   "outputs": [
    {
     "data": {
      "text/plain": [
       "[('10', 'SN'), ('년', 'NNBC'), ('차', 'NNG')]"
      ]
     },
     "execution_count": 8,
     "metadata": {},
     "output_type": "execute_result"
    }
   ],
   "source": [
    "mec.pos('10년차')"
   ]
  },
  {
   "cell_type": "code",
   "execution_count": null,
   "metadata": {},
   "outputs": [],
   "source": [
    "\n",
    "#초기 구조화: 필수 -> 이후 case로 분기\n",
    "series_mec = df['art_title'].map(lambda x : mec.pos(x, flatten=False, join=False))\n",
    "\n",
    "df_mec = pd.DataFrame(columns=['art_id','token'])\n",
    "\n",
    "for i in range(len(series_mec)):\n",
    "    print(f'level {i}')\n",
    "    for j in range(len(series_mec[i])):\n",
    "        df_mec = df_mec.append({'art_id':i, 'token': series_mec[i][j]}, ignore_index=True)\n",
    "        \n",
    "# 저장주의!!!\n",
    "df_mec.to_csv('df_mec_title_all_2.csv',encoding='utf-8-sig', index=False)\n"
   ]
  },
  {
   "cell_type": "markdown",
   "metadata": {},
   "source": [
    "### -> outputs/week3/df_mec_title_all.csv 저장됨\n",
    "<br>"
   ]
  },
  {
   "cell_type": "markdown",
   "metadata": {},
   "source": [
    "## Compound 로직 \n",
    "#### input: df_mec_title_all\n",
    "\n",
    "---\n",
    "\n",
    "#### case\n",
    "1. 명사간 -> comp_NNG_NNG\n",
    "2. VA + EC -> comp_VA_EC\n",
    "3. VA + EF\n",
    "4. SN + NR + NNBC\n",
    "5. SN + NR\n",
    "6. VCN + EC\n",
    "7. NNG + XSN + JKB\n",
    "8. NNG + JKB\n",
    "9. NNG + XSN\n",
    "10. MM + NNBC\n",
    "11. MM + NNG\n",
    "12. VV + (EP+EF)\n",
    "13. SN + NNBC\n",
    "14. VA + ETM\n",
    "15. XSV + EC\n",
    "16. SL + NNG\n",
    "17. ('1', 'SN'), ('년', 'NNBC'), ('차', 'NNG'), "
   ]
  },
  {
   "cell_type": "code",
   "execution_count": 6,
   "metadata": {},
   "outputs": [
    {
     "data": {
      "text/html": [
       "<div>\n",
       "<style scoped>\n",
       "    .dataframe tbody tr th:only-of-type {\n",
       "        vertical-align: middle;\n",
       "    }\n",
       "\n",
       "    .dataframe tbody tr th {\n",
       "        vertical-align: top;\n",
       "    }\n",
       "\n",
       "    .dataframe thead th {\n",
       "        text-align: right;\n",
       "    }\n",
       "</style>\n",
       "<table border=\"1\" class=\"dataframe\">\n",
       "  <thead>\n",
       "    <tr style=\"text-align: right;\">\n",
       "      <th></th>\n",
       "      <th>art_id</th>\n",
       "      <th>token</th>\n",
       "    </tr>\n",
       "  </thead>\n",
       "  <tbody>\n",
       "    <tr>\n",
       "      <th>0</th>\n",
       "      <td>0</td>\n",
       "      <td>[('erp', 'SL')]</td>\n",
       "    </tr>\n",
       "    <tr>\n",
       "      <th>1</th>\n",
       "      <td>0</td>\n",
       "      <td>[('프로그램', 'NNG')]</td>\n",
       "    </tr>\n",
       "    <tr>\n",
       "      <th>2</th>\n",
       "      <td>0</td>\n",
       "      <td>[('오류', 'NNG')]</td>\n",
       "    </tr>\n",
       "    <tr>\n",
       "      <th>3</th>\n",
       "      <td>0</td>\n",
       "      <td>[('장애', 'NNG'), ('조치', 'NNG')]</td>\n",
       "    </tr>\n",
       "    <tr>\n",
       "      <th>4</th>\n",
       "      <td>0</td>\n",
       "      <td>[('방법', 'NNG')]</td>\n",
       "    </tr>\n",
       "  </tbody>\n",
       "</table>\n",
       "</div>"
      ],
      "text/plain": [
       "   art_id                           token\n",
       "0       0                 [('erp', 'SL')]\n",
       "1       0               [('프로그램', 'NNG')]\n",
       "2       0                 [('오류', 'NNG')]\n",
       "3       0  [('장애', 'NNG'), ('조치', 'NNG')]\n",
       "4       0                 [('방법', 'NNG')]"
      ]
     },
     "execution_count": 6,
     "metadata": {},
     "output_type": "execute_result"
    }
   ],
   "source": [
    "import os\n",
    "import pandas as pd\n",
    "\n",
    "df_mec_title = pd.read_csv('../../outputs/week3/df0_1_mec_title_all.csv')\n",
    "\n",
    "#저장용 path 셋팅\n",
    "os.chdir(path='./outputs/')\n",
    "\n",
    "df_mec_title.head()"
   ]
  },
  {
   "cell_type": "code",
   "execution_count": null,
   "metadata": {},
   "outputs": [],
   "source": [
    "# # (CASE1) 복합명사 처리x 기본 형태소 단위 그대로 넣은 경우 비교용\n",
    "\n",
    "# df_res_basic = pd.DataFrame(columns=['art_id','token','type'])\n",
    "\n",
    "# for i in range(len(df_mec_title)):\n",
    "#     for j in range(len(df_mec_title.loc[i][1])):\n",
    "#         df_res_basic = df_res_basic.append({'art_id':df_mec_title.loc[i][0], 'token':df_mec_title.loc[i][1][j][0], 'type':df_mec_title.loc[i][1][j][1]},ignore_index=True)\n",
    "               \n",
    "# print(df_res_basic)\n",
    "\n",
    "# # df_res_basic.to_csv('df_res_basic.csv', encoding='utf-8-sig', index=False)"
   ]
  },
  {
   "cell_type": "code",
   "execution_count": null,
   "metadata": {},
   "outputs": [],
   "source": [
    "# sample\n",
    "df_mec_title_sample = df_mec_title[: 100]\n",
    "\n",
    "# (CASE2) mecab 배열상 type 연속성 기반 복합화 : VA + EC (EX. '어떻,게' / '있','나요')\n",
    "\n",
    "df_res_VA_EC = pd.DataFrame(columns=['art_id','token','type'])\n",
    "\n",
    "df_mec_title_sample\n",
    "\n",
    "\n",
    "#\n",
    "# df_res_NNG_NNP.to_csv('df_res_NNG_NNP.csv', encoding='utf-8-sig', index=False)\n",
    "\n",
    "# print(df_res_NNG_NNP)"
   ]
  },
  {
   "cell_type": "code",
   "execution_count": 4,
   "metadata": {},
   "outputs": [
    {
     "name": "stdout",
     "output_type": "stream",
     "text": [
      "     art_id token          type\n",
      "0         0   erp            SL\n",
      "1         0  프로그램           NNG\n",
      "2         0    오류           NNG\n",
      "3         0  장애조치  comp_NNG_NNP\n",
      "4         0    방법           NNG\n",
      "...     ...   ...           ...\n",
      "6578   1000    고수           NNP\n",
      "6579   1000     님           XSN\n",
      "6580   1000     들           XSN\n",
      "6581   1000     주            VX\n",
      "6582   1000    세요         EP+EF\n",
      "\n",
      "[6583 rows x 3 columns]\n"
     ]
    }
   ],
   "source": [
    "# (CASE3) mecab 배열상 type 연속성 기반 복합명사화 : NNG,NNP-NNG,NNP 혼재 CASE \n",
    "    # 문제: 3개 연달아 등장하는 명사 해결법\n",
    "    # 문제: 연\n",
    "\n",
    "df_res_NNG_NNP = pd.DataFrame(columns=['art_id','token','type'])\n",
    "# df_res_NNG_NNP.append({'art_id':, 'token','type'})\n",
    "\n",
    "for i in range(len(df_mec)):\n",
    "    if len(df_mec.loc[i][1]) <= 1 :\n",
    "        df_res_NNG_NNP = df_res_NNG_NNP.append({'art_id':df_mec.loc[i][0],'token':df_mec.loc[i][1][0][0],'type':df_mec.loc[i][1][0][1]},ignore_index=True)\n",
    "        continue\n",
    "    for j in range(1,len(df_mec.loc[i][1])):\n",
    "        if (df_mec.loc[i][1][j-1][1] == 'NNG' or df_mec.loc[i][1][j-1][1] == 'NNP') and (df_mec.loc[i][1][j][1] == 'NNG' or df_mec.loc[i][1][j][1] == 'NNP') :\n",
    "            df_res_NNG_NNP = df_res_NNG_NNP.append({'art_id':df_mec.loc[i][0],'token': \"\".join([df_mec.loc[i][1][j-1][0], df_mec.loc[i][1][j][0] ]) ,'type':'comp_NNG_NNP'},ignore_index=True)\n",
    "            continue\n",
    "        df_res_NNG_NNP = df_res_NNG_NNP.append({'art_id':df_mec.loc[i][0], 'token':df_mec.loc[i][1][j][0] ,'type':df_mec.loc[i][1][j][1]}, ignore_index=True)\n",
    "\n",
    "\n",
    "df_res_NNG_NNP.to_csv('df_res_NNG_NNP_test1.csv', encoding='utf-8-sig', index=False)\n",
    "\n",
    "print(df_res_NNG_NNP)"
   ]
  }
 ],
 "metadata": {
  "kernelspec": {
   "display_name": "Python 3.8.13 ('base')",
   "language": "python",
   "name": "python3"
  },
  "language_info": {
   "codemirror_mode": {
    "name": "ipython",
    "version": 3
   },
   "file_extension": ".py",
   "mimetype": "text/x-python",
   "name": "python",
   "nbconvert_exporter": "python",
   "pygments_lexer": "ipython3",
   "version": "3.7.9"
  },
  "orig_nbformat": 4,
  "vscode": {
   "interpreter": {
    "hash": "893e2f8560dd80db9d2d7371d17a496e07b1d50128dbfa242376fd90a1fa52a7"
   }
  }
 },
 "nbformat": 4,
 "nbformat_minor": 2
}
