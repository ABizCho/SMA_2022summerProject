{
 "cells": [
  {
   "cell_type": "code",
   "execution_count": 2,
   "metadata": {},
   "outputs": [],
   "source": [
    "from konlpy.tag import Mecab \n",
    "\n",
    "mec = Mecab(dicpath=r\"C:\\mecab\\mecab-ko-dic\")"
   ]
  },
  {
   "cell_type": "code",
   "execution_count": 10,
   "metadata": {},
   "outputs": [],
   "source": [
    "import pandas as pd\n",
    "\n",
    "df = pd.read_csv(\"df3_2_artsCleanEtc.csv\")\n",
    "\n",
    "df_content_total = df\n",
    "# # sample\n",
    "# df_sample= df.loc[:1000]\n"
   ]
  },
  {
   "cell_type": "code",
   "execution_count": 3,
   "metadata": {},
   "outputs": [
    {
     "data": {
      "text/plain": [
       "[('한', 'MM'), ('가요', 'NNG')]"
      ]
     },
     "execution_count": 3,
     "metadata": {},
     "output_type": "execute_result"
    }
   ],
   "source": [
    "mec.pos('한가요')"
   ]
  },
  {
   "cell_type": "code",
   "execution_count": null,
   "metadata": {},
   "outputs": [],
   "source": [
    "\n",
    "# #초기 구조화: 필수 -> 이후 case로 분기\n",
    "\n",
    "# series_mec = df_content_total['art_content'].map(lambda x : mec.pos(x, flatten=False, join=False))\n",
    "\n",
    "# df_mec = pd.DataFrame(columns=['art_id','token'])\n",
    "\n",
    "# for i in range(len(series_mec)):\n",
    "#     print(f'level1: {i} =======================')\n",
    "#     for j in range(len(series_mec[i])):\n",
    "#         df_mec = df_mec.append({'art_id':i, 'token': series_mec[i][j]}, ignore_index=True)\n",
    "#         print(f'level2: {j}')\n",
    "        \n",
    "# ## 저장주의!!!!        \n",
    "# # df_mec.to_csv('df_mec_content_all.csv',encoding='utf-8-sig', index=False)\n"
   ]
  },
  {
   "cell_type": "markdown",
   "metadata": {},
   "source": [
    "### -> outputs/week3/df_mec_content_all.csv 저장됨\n",
    "<br>"
   ]
  },
  {
   "cell_type": "markdown",
   "metadata": {},
   "source": [
    "## Compound 로직 \n",
    "#### input: df_mec_content_all (or) df_mec_title_all"
   ]
  },
  {
   "cell_type": "code",
   "execution_count": 1,
   "metadata": {},
   "outputs": [
    {
     "data": {
      "text/html": [
       "<div>\n",
       "<style scoped>\n",
       "    .dataframe tbody tr th:only-of-type {\n",
       "        vertical-align: middle;\n",
       "    }\n",
       "\n",
       "    .dataframe tbody tr th {\n",
       "        vertical-align: top;\n",
       "    }\n",
       "\n",
       "    .dataframe thead th {\n",
       "        text-align: right;\n",
       "    }\n",
       "</style>\n",
       "<table border=\"1\" class=\"dataframe\">\n",
       "  <thead>\n",
       "    <tr style=\"text-align: right;\">\n",
       "      <th></th>\n",
       "      <th>art_id</th>\n",
       "      <th>token</th>\n",
       "    </tr>\n",
       "  </thead>\n",
       "  <tbody>\n",
       "    <tr>\n",
       "      <th>0</th>\n",
       "      <td>0</td>\n",
       "      <td>[('erp', 'SL')]</td>\n",
       "    </tr>\n",
       "    <tr>\n",
       "      <th>1</th>\n",
       "      <td>0</td>\n",
       "      <td>[('개발', 'NNG')]</td>\n",
       "    </tr>\n",
       "    <tr>\n",
       "      <th>2</th>\n",
       "      <td>0</td>\n",
       "      <td>[('유지', 'NNG'), ('보수', 'NNG')]</td>\n",
       "    </tr>\n",
       "    <tr>\n",
       "      <th>3</th>\n",
       "      <td>0</td>\n",
       "      <td>[('하', 'VV'), ('고', 'EC'), ('있', 'VX'), ('는데',...</td>\n",
       "    </tr>\n",
       "    <tr>\n",
       "      <th>4</th>\n",
       "      <td>0</td>\n",
       "      <td>[('프로그램', 'NNG')]</td>\n",
       "    </tr>\n",
       "  </tbody>\n",
       "</table>\n",
       "</div>"
      ],
      "text/plain": [
       "   art_id                                              token\n",
       "0       0                                    [('erp', 'SL')]\n",
       "1       0                                    [('개발', 'NNG')]\n",
       "2       0                     [('유지', 'NNG'), ('보수', 'NNG')]\n",
       "3       0  [('하', 'VV'), ('고', 'EC'), ('있', 'VX'), ('는데',...\n",
       "4       0                                  [('프로그램', 'NNG')]"
      ]
     },
     "execution_count": 1,
     "metadata": {},
     "output_type": "execute_result"
    }
   ],
   "source": [
    "import os\n",
    "import pandas as pd\n",
    "\n",
    "df_mec_content = pd.read_csv('../../outputs/week3/df0_2_mec_content_all.csv')\n",
    "df_mec_content.head()"
   ]
  },
  {
   "cell_type": "code",
   "execution_count": 5,
   "metadata": {},
   "outputs": [
    {
     "name": "stdout",
     "output_type": "stream",
     "text": [
      "     art_id token    type\n",
      "0         0   erp      SL\n",
      "1         0  프로그램     NNG\n",
      "2         0    오류     NNG\n",
      "3         0    장애     NNG\n",
      "4         0    조치     NNG\n",
      "...     ...   ...     ...\n",
      "1076    100     는      JX\n",
      "1077    100   MAC      SL\n",
      "1078    100     이     JKS\n",
      "1079    100    정답     NNG\n",
      "1080    100   일까요  VCP+EC\n",
      "\n",
      "[1081 rows x 3 columns]\n"
     ]
    }
   ],
   "source": [
    "# # (CASE1) 복합명사 처리x 기본 형태소 단위 그대로 넣은 경우 비교용\n",
    "\n",
    "\n",
    "# df_res_basic = pd.DataFrame(columns=['art_id','token','type'])\n",
    "\n",
    "# for i in range(len(df_mec_content)):\n",
    "#     for j in range(len(df_mec_content.loc[i][1])):\n",
    "#         df_res_basic = df_res_basic.append({'art_id':df_mec_content.loc[i][0], 'token':df_mec_content.loc[i][1][j][0], 'type':df_mec_content.loc[i][1][j][1]},ignore_index=True)\n",
    "               \n",
    "# print(df_res_basic)\n",
    "\n",
    "# # df_res_basic.to_csv('df_res_basic.csv', encoding='utf-8-sig', index=False)"
   ]
  },
  {
   "cell_type": "code",
   "execution_count": null,
   "metadata": {},
   "outputs": [],
   "source": [
    "# (CASE2) mecab 배열상 type 연속성 기반 복합화 : VA + EC (EX. '어떻,게' / '있','나요')\n",
    "\n",
    "df_res_VA_EC = pd.DataFrame(columns=['art_id','token','type'])\n",
    "# df_res_NNG_NNP.append({'art_id':, 'token','type'})\n",
    "\n",
    "for i in range(len(df_mec)):\n",
    "    if len(df_mec.loc[i][1]) <= 1 :\n",
    "        df_res_NNG_NNP = df_res_NNG_NNP.append({'art_id':df_mec.loc[i][0],'token':df_mec.loc[i][1][0][0],'type':df_mec.loc[i][1][0][1]},ignore_index=True)\n",
    "        continue\n",
    "    for j in range(1,len(df_mec.loc[i][1])):\n",
    "        if (df_mec.loc[i][1][j-1][1] == 'NNG' or df_mec.loc[i][1][j-1][1] == 'NNP') and (df_mec.loc[i][1][j][1] == 'NNG' or df_mec.loc[i][1][j][1] == 'NNP') :\n",
    "            df_res_NNG_NNP = df_res_NNG_NNP.append({'art_id':df_mec.loc[i][0],'token': \"\".join([df_mec.loc[i][1][j-1][0], df_mec.loc[i][1][j][0] ]) ,'type':'comp_VA_EC'},ignore_index=True)\n",
    "            continue\n",
    "        df_res_NNG_NNP = df_res_NNG_NNP.append({'art_id':df_mec.loc[i][0], 'token':df_mec.loc[i][1][j][0] ,'type':df_mec.loc[i][1][j][1]}, ignore_index=True)\n",
    "\n",
    "\n",
    "df_res_NNG_NNP.to_csv('df_res_NNG_NNP.csv', encoding='utf-8-sig', index=False)\n",
    "\n",
    "print(df_res_NNG_NNP)"
   ]
  },
  {
   "cell_type": "code",
   "execution_count": 4,
   "metadata": {},
   "outputs": [
    {
     "name": "stdout",
     "output_type": "stream",
     "text": [
      "     art_id token          type\n",
      "0         0   erp            SL\n",
      "1         0  프로그램           NNG\n",
      "2         0    오류           NNG\n",
      "3         0  장애조치  comp_NNG_NNP\n",
      "4         0    방법           NNG\n",
      "...     ...   ...           ...\n",
      "6578   1000    고수           NNP\n",
      "6579   1000     님           XSN\n",
      "6580   1000     들           XSN\n",
      "6581   1000     주            VX\n",
      "6582   1000    세요         EP+EF\n",
      "\n",
      "[6583 rows x 3 columns]\n"
     ]
    }
   ],
   "source": [
    "# (CASE4) mecab 배열상 type 연속성 기반 복합명사화 : NNG,NNP-NNG,NNP 혼재 CASE \n",
    "    # 문제: 3개 연달아 등장하는 명사 해결법\n",
    "    # 문제: 연\n",
    "\n",
    "df_res_NNG_NNP = pd.DataFrame(columns=['art_id','token','type'])\n",
    "# df_res_NNG_NNP.append({'art_id':, 'token','type'})\n",
    "\n",
    "for i in range(len(df_mec)):\n",
    "    if len(df_mec.loc[i][1]) <= 1 :\n",
    "        df_res_NNG_NNP = df_res_NNG_NNP.append({'art_id':df_mec.loc[i][0],'token':df_mec.loc[i][1][0][0],'type':df_mec.loc[i][1][0][1]},ignore_index=True)\n",
    "        continue\n",
    "    for j in range(1,len(df_mec.loc[i][1])):\n",
    "        if (df_mec.loc[i][1][j-1][1] == 'NNG' or df_mec.loc[i][1][j-1][1] == 'NNP') and (df_mec.loc[i][1][j][1] == 'NNG' or df_mec.loc[i][1][j][1] == 'NNP') :\n",
    "            df_res_NNG_NNP = df_res_NNG_NNP.append({'art_id':df_mec.loc[i][0],'token': \"\".join([df_mec.loc[i][1][j-1][0], df_mec.loc[i][1][j][0] ]) ,'type':'comp_NNG_NNP'},ignore_index=True)\n",
    "            continue\n",
    "        df_res_NNG_NNP = df_res_NNG_NNP.append({'art_id':df_mec.loc[i][0], 'token':df_mec.loc[i][1][j][0] ,'type':df_mec.loc[i][1][j][1]}, ignore_index=True)\n",
    "\n",
    "\n",
    "df_res_NNG_NNP.to_csv('df_res_content_NNG_NNP_all.csv', encoding='utf-8-sig', index=False)\n",
    "\n",
    "print(df_res_NNG_NNP)"
   ]
  }
 ],
 "metadata": {
  "kernelspec": {
   "display_name": "Python 3.8.13 ('base')",
   "language": "python",
   "name": "python3"
  },
  "language_info": {
   "codemirror_mode": {
    "name": "ipython",
    "version": 3
   },
   "file_extension": ".py",
   "mimetype": "text/x-python",
   "name": "python",
   "nbconvert_exporter": "python",
   "pygments_lexer": "ipython3",
   "version": "3.7.9"
  },
  "orig_nbformat": 4,
  "vscode": {
   "interpreter": {
    "hash": "893e2f8560dd80db9d2d7371d17a496e07b1d50128dbfa242376fd90a1fa52a7"
   }
  }
 },
 "nbformat": 4,
 "nbformat_minor": 2
}
