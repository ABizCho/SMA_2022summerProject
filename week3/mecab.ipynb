{
 "cells": [
  {
   "cell_type": "code",
   "execution_count": 2,
   "metadata": {},
   "outputs": [],
   "source": [
    "from konlpy.tag import Mecab \n",
    "\n",
    "mec = Mecab(dicpath=r\"C:\\mecab\\mecab-ko-dic\")"
   ]
  },
  {
   "cell_type": "code",
   "execution_count": 3,
   "metadata": {},
   "outputs": [],
   "source": [
    "import pandas as pd\n",
    "\n",
    "df = pd.read_csv(\"df3_2_artsCleanEtc.csv\")\n",
    "\n",
    "# sample\n",
    "df_sample= df.loc[:100]"
   ]
  },
  {
   "cell_type": "code",
   "execution_count": 19,
   "metadata": {},
   "outputs": [
    {
     "data": {
      "text/plain": [
       "[('공식문서', 'NNP'),\n",
       " ('입니다', 'VCP+EF'),\n",
       " ('학교', 'NNG'),\n",
       " ('에', 'JKB'),\n",
       " ('다닙니다', 'VV+EF')]"
      ]
     },
     "execution_count": 19,
     "metadata": {},
     "output_type": "execute_result"
    }
   ],
   "source": [
    "mec.pos('공식문서입니다 학교에 다닙니다')"
   ]
  },
  {
   "cell_type": "code",
   "execution_count": 5,
   "metadata": {},
   "outputs": [],
   "source": [
    "\n",
    "series_mec = df_sample['art_title'].map(lambda x : mec.pos(x, flatten=False, join=False))\n",
    "\n",
    "df_mec = pd.DataFrame(columns=['art_id','token'])\n",
    "\n",
    "for i in range(len(series_mec)):\n",
    "    for j in range(len(series_mec[i])):\n",
    "        df_mec = df_mec.append({'art_id':i, 'token': series_mec[i][j]}, ignore_index=True)\n",
    "        \n",
    "# df_mec.head(len(df_mec))     \n",
    "# df_mec.to_csv('df_mec_all.csv',encoding='utf-8-sig', index=False)\n"
   ]
  },
  {
   "cell_type": "code",
   "execution_count": 15,
   "metadata": {},
   "outputs": [
    {
     "name": "stdout",
     "output_type": "stream",
     "text": [
      "     art_id token    type\n",
      "0         0   erp      SL\n",
      "1         0  프로그램     NNG\n",
      "2         0    오류     NNG\n",
      "3         0    장애     NNG\n",
      "4         0    조치     NNG\n",
      "...     ...   ...     ...\n",
      "1080    100     는      JX\n",
      "1081    100   MAC      SL\n",
      "1082    100     이     JKS\n",
      "1083    100    정답     NNG\n",
      "1084    100   일까요  VCP+EC\n",
      "\n",
      "[1085 rows x 3 columns]\n"
     ]
    }
   ],
   "source": [
    "# (CASE1) 복합명사 처리x 기본 형태소 단위 그대로 넣은 경우 비교용\n",
    "\n",
    "df_res_basic = pd.DataFrame(columns=['art_id','token','type'])\n",
    "\n",
    "for i in range(len(df_mec)):\n",
    "    for j in range(len(df_mec.loc[i][1])):\n",
    "        df_res_basic = df_res_basic.append({'art_id':df_mec.loc[i][0], 'token':df_mec.loc[i][1][j][0], 'type':df_mec.loc[i][1][j][1]},ignore_index=True)\n",
    "               \n",
    "print(df_res_basic)\n",
    "\n",
    "df_res_basic.to_csv('df_res_basic.csv', encoding='utf-8-sig', index=False)"
   ]
  },
  {
   "cell_type": "code",
   "execution_count": 20,
   "metadata": {},
   "outputs": [
    {
     "name": "stdout",
     "output_type": "stream",
     "text": [
      "    art_id token          type\n",
      "0        0   erp            SL\n",
      "1        0  프로그램           NNG\n",
      "2        0    오류           NNG\n",
      "3        0  장애조치  comp_NNG_NNP\n",
      "4        0    방법           NNG\n",
      "..     ...   ...           ...\n",
      "723    100     는           ETM\n",
      "724    100   입니다        VCP+EC\n",
      "725    100     는            JX\n",
      "726    100     이           JKS\n",
      "727    100   일까요        VCP+EC\n",
      "\n",
      "[728 rows x 3 columns]\n"
     ]
    }
   ],
   "source": [
    "# (CASE4) mecab 배열상 type 연속성 기반 복합명사화 : NNG,NNP-NNG,NNP 혼재 CASE \n",
    "    # 문제: 3개 연달아 등장하는 명사 해결법\n",
    "    # 문제: 연\n",
    "\n",
    "df_res_NNG_NNP = pd.DataFrame(columns=['art_id','token','type'])\n",
    "# df_res_NNG_NNP.append({'art_id':, 'token','type'})\n",
    "\n",
    "for i in range(len(df_mec)):\n",
    "    if len(df_mec.loc[i][1]) <= 1 :\n",
    "        df_res_NNG_NNP = df_res_NNG_NNP.append({'art_id':df_mec.loc[i][0],'token':df_mec.loc[i][1][0][0],'type':df_mec.loc[i][1][0][1]},ignore_index=True)\n",
    "        continue\n",
    "    for j in range(1,len(df_mec.loc[i][1])):\n",
    "        if (df_mec.loc[i][1][j-1][1] == 'NNG' or df_mec.loc[i][1][j-1][1] == 'NNP') and (df_mec.loc[i][1][j][1] == 'NNG' or df_mec.loc[i][1][j][1] == 'NNP') :\n",
    "            df_res_NNG_NNP = df_res_NNG_NNP.append({'art_id':df_mec.loc[i][0],'token': \"\".join([df_mec.loc[i][1][j-1][0], df_mec.loc[i][1][j][0] ]) ,'type':'comp_NNG_NNP'},ignore_index=True)\n",
    "            continue\n",
    "        df_res_NNG_NNP = df_res_NNG_NNP.append({'art_id':df_mec.loc[i][0], 'token':df_mec.loc[i][1][j][0] ,'type':df_mec.loc[i][1][j][1]}, ignore_index=True)\n",
    "\n",
    "\n",
    "df_res_NNG_NNP.to_csv('df_res_NNG_NNP.csv', encoding='utf-8-sig', index=False)\n",
    "\n",
    "print(df_res_NNG_NNP)"
   ]
  }
 ],
 "metadata": {
  "kernelspec": {
   "display_name": "Python 3.8.13 ('base')",
   "language": "python",
   "name": "python3"
  },
  "language_info": {
   "codemirror_mode": {
    "name": "ipython",
    "version": 3
   },
   "file_extension": ".py",
   "mimetype": "text/x-python",
   "name": "python",
   "nbconvert_exporter": "python",
   "pygments_lexer": "ipython3",
   "version": "3.7.9"
  },
  "orig_nbformat": 4,
  "vscode": {
   "interpreter": {
    "hash": "893e2f8560dd80db9d2d7371d17a496e07b1d50128dbfa242376fd90a1fa52a7"
   }
  }
 },
 "nbformat": 4,
 "nbformat_minor": 2
}
